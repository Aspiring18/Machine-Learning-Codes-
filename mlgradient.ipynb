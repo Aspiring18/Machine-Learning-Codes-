{
 "cells": [
  {
   "cell_type": "code",
   "execution_count": 3,
   "id": "17891d70-8a21-422d-974e-854a43f7f488",
   "metadata": {},
   "outputs": [
    {
     "name": "stdout",
     "output_type": "stream",
     "text": [
      "Local minima of x is:-3, and y is: 0\n"
     ]
    }
   ],
   "source": [
    "def function_to_optimise(x):\n",
    "    return (x+3)**2\n",
    "\n",
    "def gradient(x):\n",
    "    return 2*(x+3)\n",
    "\n",
    "x = 2\n",
    "learning_rate = 0.1\n",
    "max_iterations = 1000\n",
    "\n",
    "for i in range (max_iterations):\n",
    "    gradient_value = gradient(x)\n",
    "    x = x - learning_rate * gradient_value\n",
    "\n",
    "minima = function_to_optimise(x)\n",
    "print(f'Local minima of x is:{round(x)}, and y is: {round(minima)}')"
   ]
  },
  {
   "cell_type": "code",
   "execution_count": null,
   "id": "78b77da2-4935-490c-963f-82a70e84d41f",
   "metadata": {},
   "outputs": [],
   "source": []
  }
 ],
 "metadata": {
  "kernelspec": {
   "display_name": "Python 3 (ipykernel)",
   "language": "python",
   "name": "python3"
  },
  "language_info": {
   "codemirror_mode": {
    "name": "ipython",
    "version": 3
   },
   "file_extension": ".py",
   "mimetype": "text/x-python",
   "name": "python",
   "nbconvert_exporter": "python",
   "pygments_lexer": "ipython3",
   "version": "3.11.4"
  }
 },
 "nbformat": 4,
 "nbformat_minor": 5
}
